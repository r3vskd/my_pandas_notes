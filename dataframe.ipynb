{
 "cells": [
  {
   "cell_type": "code",
   "execution_count": 1,
   "metadata": {},
   "outputs": [],
   "source": [
    "import pandas as pd"
   ]
  },
  {
   "cell_type": "code",
   "execution_count": 2,
   "metadata": {},
   "outputs": [],
   "source": [
    "data = {'NOMBRE':['Miguel', 'Maria', 'Manuel', 'Gerard'], \n",
    "        'CARRERA':['Cine','Informatica','Derecho','Fisica'],\n",
    "        'CORREO':['abc@gmail.com','cba@gmail.com','dav@gmail.com','ogs@gmail.com']}"
   ]
  },
  {
   "cell_type": "code",
   "execution_count": 3,
   "metadata": {},
   "outputs": [],
   "source": [
    "estudiantes = pd.DataFrame(data)"
   ]
  },
  {
   "cell_type": "code",
   "execution_count": 4,
   "metadata": {},
   "outputs": [
    {
     "name": "stdout",
     "output_type": "stream",
     "text": [
      "   NOMBRE      CARRERA         CORREO\n",
      "0  Miguel         Cine  abc@gmail.com\n",
      "1   Maria  Informatica  cba@gmail.com\n",
      "2  Manuel      Derecho  dav@gmail.com\n",
      "3  Gerard       Fisica  ogs@gmail.com\n"
     ]
    }
   ],
   "source": [
    "print(estudiantes)"
   ]
  }
 ],
 "metadata": {
  "kernelspec": {
   "display_name": "base",
   "language": "python",
   "name": "python3"
  },
  "language_info": {
   "codemirror_mode": {
    "name": "ipython",
    "version": 3
   },
   "file_extension": ".py",
   "mimetype": "text/x-python",
   "name": "python",
   "nbconvert_exporter": "python",
   "pygments_lexer": "ipython3",
   "version": "3.11.7"
  }
 },
 "nbformat": 4,
 "nbformat_minor": 2
}

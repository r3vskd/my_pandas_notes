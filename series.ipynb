{
 "cells": [
  {
   "cell_type": "code",
   "execution_count": 2,
   "id": "dc893e0c-b3ba-4971-a7b3-a301b02e90f1",
   "metadata": {},
   "outputs": [],
   "source": [
    "import pandas as pd"
   ]
  },
  {
   "cell_type": "code",
   "execution_count": 3,
   "id": "fefcf004-f9f5-45cd-808a-05bb9aedee71",
   "metadata": {},
   "outputs": [],
   "source": [
    "colores = pd.Series(['azul','morado','rojo','naranja','gris'])"
   ]
  },
  {
   "cell_type": "code",
   "execution_count": 4,
   "id": "f5017f53-d890-4fa4-8c4f-ae1b1602cb1c",
   "metadata": {},
   "outputs": [
    {
     "name": "stdout",
     "output_type": "stream",
     "text": [
      "0       azul\n",
      "1     morado\n",
      "2       rojo\n",
      "3    naranja\n",
      "4       gris\n",
      "dtype: object\n"
     ]
    }
   ],
   "source": [
    "print(colores)"
   ]
  },
  {
   "cell_type": "code",
   "execution_count": 5,
   "id": "d6a540f6-a59e-4780-8464-da6af29a836d",
   "metadata": {},
   "outputs": [
    {
     "data": {
      "text/plain": [
       "2       rojo\n",
       "3    naranja\n",
       "dtype: object"
      ]
     },
     "execution_count": 5,
     "metadata": {},
     "output_type": "execute_result"
    }
   ],
   "source": [
    "colores[2:4]"
   ]
  },
  {
   "cell_type": "code",
   "execution_count": 6,
   "id": "29a6a92d",
   "metadata": {},
   "outputs": [],
   "source": [
    "numeros = pd.Series([1,2,3,4,5,6,7])"
   ]
  },
  {
   "cell_type": "code",
   "execution_count": 7,
   "id": "85ef9d78",
   "metadata": {},
   "outputs": [
    {
     "data": {
      "text/plain": [
       "0     2\n",
       "1     4\n",
       "2     6\n",
       "3     8\n",
       "4    10\n",
       "5    12\n",
       "6    14\n",
       "dtype: int64"
      ]
     },
     "execution_count": 7,
     "metadata": {},
     "output_type": "execute_result"
    }
   ],
   "source": [
    "numeros * 2"
   ]
  }
 ],
 "metadata": {
  "kernelspec": {
   "display_name": "Python 3 (ipykernel)",
   "language": "python",
   "name": "python3"
  },
  "language_info": {
   "codemirror_mode": {
    "name": "ipython",
    "version": 3
   },
   "file_extension": ".py",
   "mimetype": "text/x-python",
   "name": "python",
   "nbconvert_exporter": "python",
   "pygments_lexer": "ipython3",
   "version": "3.11.7"
  }
 },
 "nbformat": 4,
 "nbformat_minor": 5
}

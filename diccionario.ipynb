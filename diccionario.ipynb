{
 "cells": [
  {
   "cell_type": "code",
   "execution_count": 1,
   "id": "2d5d0709-56f1-4081-bf15-1bb85d6c4ddc",
   "metadata": {},
   "outputs": [],
   "source": [
    "import pandas as pd"
   ]
  },
  {
   "cell_type": "code",
   "execution_count": 2,
   "id": "2470cd96-46fe-480a-84ae-605c9ba249df",
   "metadata": {},
   "outputs": [],
   "source": [
    "materias = pd.Series({'matematicas':60, 'fisica':100, 'quimica':78})"
   ]
  },
  {
   "cell_type": "code",
   "execution_count": 3,
   "id": "aa6fa3bb-a4c9-452b-871e-2cb9b1bd9473",
   "metadata": {},
   "outputs": [
    {
     "name": "stdout",
     "output_type": "stream",
     "text": [
      "matematicas     60\n",
      "fisica         100\n",
      "quimica         78\n",
      "dtype: int64\n"
     ]
    }
   ],
   "source": [
    "print(materias)"
   ]
  },
  {
   "cell_type": "code",
   "execution_count": 6,
   "id": "9d86ef69-6767-4085-acc7-4ac7a31c11f5",
   "metadata": {},
   "outputs": [
    {
     "data": {
      "text/plain": [
       "fisica     100\n",
       "quimica     78\n",
       "dtype: int64"
      ]
     },
     "execution_count": 6,
     "metadata": {},
     "output_type": "execute_result"
    }
   ],
   "source": [
    "materias[['fisica','quimica']]"
   ]
  }
 ],
 "metadata": {
  "kernelspec": {
   "display_name": "Python 3 (ipykernel)",
   "language": "python",
   "name": "python3"
  },
  "language_info": {
   "codemirror_mode": {
    "name": "ipython",
    "version": 3
   },
   "file_extension": ".py",
   "mimetype": "text/x-python",
   "name": "python",
   "nbconvert_exporter": "python",
   "pygments_lexer": "ipython3",
   "version": "3.11.7"
  }
 },
 "nbformat": 4,
 "nbformat_minor": 5
}

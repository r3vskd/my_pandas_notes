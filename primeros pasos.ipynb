{
 "cells": [
  {
   "cell_type": "code",
   "execution_count": 1,
   "id": "94ceb99f-7704-4462-b3f4-148b710c1786",
   "metadata": {},
   "outputs": [],
   "source": [
    "import pandas as pd"
   ]
  },
  {
   "cell_type": "code",
   "execution_count": 5,
   "id": "66022418-4b5c-4ed1-876f-910b2cc9b8bf",
   "metadata": {},
   "outputs": [],
   "source": [
    "naranjas = pd.Series([4,9,2,6,10,200])"
   ]
  },
  {
   "cell_type": "code",
   "execution_count": 7,
   "id": "f9ded347-a74c-4584-b8cf-5105f1c245ab",
   "metadata": {},
   "outputs": [
    {
     "name": "stdout",
     "output_type": "stream",
     "text": [
      "0      4\n",
      "1      9\n",
      "2      2\n",
      "3      6\n",
      "4     10\n",
      "5    200\n",
      "dtype: int64\n"
     ]
    }
   ],
   "source": [
    "print(naranjas)"
   ]
  },
  {
   "cell_type": "code",
   "execution_count": null,
   "id": "68a6ec17-c1aa-4044-acc3-bf49c347198e",
   "metadata": {},
   "outputs": [],
   "source": []
  }
 ],
 "metadata": {
  "kernelspec": {
   "display_name": "Python 3 (ipykernel)",
   "language": "python",
   "name": "python3"
  },
  "language_info": {
   "codemirror_mode": {
    "name": "ipython",
    "version": 3
   },
   "file_extension": ".py",
   "mimetype": "text/x-python",
   "name": "python",
   "nbconvert_exporter": "python",
   "pygments_lexer": "ipython3",
   "version": "3.11.7"
  }
 },
 "nbformat": 4,
 "nbformat_minor": 5
}
